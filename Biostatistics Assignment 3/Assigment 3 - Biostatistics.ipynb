{
 "cells": [
  {
   "cell_type": "markdown",
   "metadata": {},
   "source": [
    "<center> <h2>Biostatistics (SBE2240)</h2></center>\n",
    "<center> <h3>Assignment 3 - Python</h3></center>"
   ]
  },
  {
   "cell_type": "code",
   "execution_count": 122,
   "metadata": {},
   "outputs": [],
   "source": [
    "import numpy as np\n",
    "import itertools as it\n",
    "import matplotlib.pyplot as plt \n",
    "import scipy.stats as st\n",
    "from scipy.stats import binom as bi"
   ]
  },
  {
   "cell_type": "markdown",
   "metadata": {},
   "source": [
    "### Question 1\n"
   ]
  },
  {
   "cell_type": "code",
   "execution_count": 4,
   "metadata": {},
   "outputs": [
    {
     "name": "stdout",
     "output_type": "stream",
     "text": [
      "The number of possible options is 16\n",
      "the options is:\n",
      "('Automatic', 'With AC', 'red')\n",
      "('Automatic', 'With AC', 'blue')\n",
      "('Automatic', 'With AC', 'green')\n",
      "('Automatic', 'With AC', 'white')\n",
      "('Automatic', 'Without AC', 'red')\n",
      "('Automatic', 'Without AC', 'blue')\n",
      "('Automatic', 'Without AC', 'green')\n",
      "('Automatic', 'Without AC', 'white')\n",
      "('Standard', 'With AC', 'red')\n",
      "('Standard', 'With AC', 'blue')\n",
      "('Standard', 'With AC', 'green')\n",
      "('Standard', 'With AC', 'white')\n",
      "('Standard', 'Without AC', 'red')\n",
      "('Standard', 'Without AC', 'blue')\n",
      "('Standard', 'Without AC', 'green')\n",
      "('Standard', 'Without AC', 'white')\n"
     ]
    }
   ],
   "source": [
    "## the set of possible orders = s1*s2*s3\n",
    "\n",
    "specs = [[\"Automatic\", \"Standard\"],[\"With AC\", \"Without AC\"],[\"red\", \"blue\", \"green\", \"white\"]]  #car Sepcs list of lists\n",
    "\n",
    "specs_options = list(it.product(*specs))    #make cartisian product of the 3 lists\n",
    "\n",
    "\n",
    "print('The number of possible options is',len(specs_options))       \n",
    "print('the options is:')\n",
    "for option in specs_options:\n",
    "    print (option)\n",
    "\n"
   ]
  },
  {
   "cell_type": "markdown",
   "metadata": {},
   "source": [
    "### Question 2"
   ]
  },
  {
   "cell_type": "code",
   "execution_count": 5,
   "metadata": {},
   "outputs": [],
   "source": [
    "\n",
    "## given the number, probablity and choosen\n",
    "\n",
    "#gets probablity mass function\n",
    "def get_PMF_value(n,p,k):\n",
    "    return bi.pmf(k, n, p)\n",
    "\n",
    "#gets cumulative distribution function\n",
    "def get_CDF_value(n,p,k):\n",
    "    return bi.cdf(k, n ,p)"
   ]
  },
  {
   "cell_type": "markdown",
   "metadata": {},
   "source": [
    "A-"
   ]
  },
  {
   "cell_type": "code",
   "execution_count": 6,
   "metadata": {},
   "outputs": [
    {
     "name": "stdout",
     "output_type": "stream",
     "text": [
      "the probablity of excalty 4 () is: 0.07000298491218054\n"
     ]
    }
   ],
   "source": [
    "print('the probablity of excalty 4 () is:', get_PMF_value(18,0.1,4))"
   ]
  },
  {
   "cell_type": "markdown",
   "metadata": {},
   "source": [
    "B-"
   ]
  },
  {
   "cell_type": "code",
   "execution_count": 7,
   "metadata": {},
   "outputs": [
    {
     "name": "stdout",
     "output_type": "stream",
     "text": [
      "the probablity of at least 3 is 0.2662040052146709\n"
     ]
    }
   ],
   "source": [
    "prob_b = 1- get_CDF_value(18, 0.1 ,2)\n",
    "print(\"the probablity of at least 3 is\", prob_b)"
   ]
  },
  {
   "cell_type": "markdown",
   "metadata": {},
   "source": [
    "C-"
   ]
  },
  {
   "cell_type": "code",
   "execution_count": 23,
   "metadata": {},
   "outputs": [],
   "source": [
    "def get_expected_value(n,p):\n",
    "    sum = 0\n",
    "    for x in range(0, n+1):\n",
    "        sum += x*bi.pmf(x, n, p)\n",
    "        \n",
    "    return sum"
   ]
  },
  {
   "cell_type": "code",
   "execution_count": 25,
   "metadata": {},
   "outputs": [
    {
     "name": "stdout",
     "output_type": "stream",
     "text": [
      "the expected number of samples is 1.7999999999999965\n"
     ]
    }
   ],
   "source": [
    "print('the expected number of samples is', get_expected_value(18,0.1))"
   ]
  },
  {
   "cell_type": "markdown",
   "metadata": {},
   "source": [
    "D-"
   ]
  },
  {
   "cell_type": "code",
   "execution_count": 17,
   "metadata": {},
   "outputs": [],
   "source": [
    "def get_PMF(n,p):\n",
    "    # defining the list of k values\n",
    "    k_values = list(range(n + 1))\n",
    "\n",
    "    # list of pmf values\n",
    "    return [bi.pmf(k, n, p) for k in k_values]"
   ]
  },
  {
   "cell_type": "code",
   "execution_count": 26,
   "metadata": {},
   "outputs": [],
   "source": [
    "def plot_PMF(n,p):\n",
    "    k_values = list(range(n + 1))\n",
    "    pmf_vals = get_PMF(n,p)\n",
    "    plt.bar(k_values, pmf_vals,0.8)\n",
    "    plt.xticks(k_values)\n",
    "    plt.xlabel('x')\n",
    "    plt.ylabel('f(x)')\n",
    "    plt.show()"
   ]
  },
  {
   "cell_type": "code",
   "execution_count": 27,
   "metadata": {},
   "outputs": [
    {
     "data": {
      "image/png": "[encoded data removed]",
      "text/plain": [
       "<Figure size 432x288 with 1 Axes>"
      ]
     },
     "metadata": {
      "needs_background": "light"
     },
     "output_type": "display_data"
    }
   ],
   "source": [
    "plot_PMF(18,0.1)"
   ]
  },
  {
   "cell_type": "markdown",
   "metadata": {},
   "source": [
    "E-"
   ]
  },
  {
   "cell_type": "code",
   "execution_count": 28,
   "metadata": {},
   "outputs": [],
   "source": [
    "def plot_CDF(n,p):\n",
    "    kx_values = list(range(n + 1))\n",
    "    k_values = np.linspace(0,19,1000)\n",
    "    cdf_vals = bi.cdf(k_values,n,p)\n",
    "    plt.plot(k_values, cdf_vals,0.8)\n",
    "    plt.xticks(kx_values)\n",
    "    plt.xlabel('x')\n",
    "    plt.ylabel('F(x)')\n",
    "    plt.show()"
   ]
  },
  {
   "cell_type": "code",
   "execution_count": 29,
   "metadata": {},
   "outputs": [
    {
     "data": {
      "image/png": "[encoded data removed]",
      "text/plain": [
       "<Figure size 432x288 with 1 Axes>"
      ]
     },
     "metadata": {
      "needs_background": "light"
     },
     "output_type": "display_data"
    }
   ],
   "source": [
    "plot_CDF(18,0.1)"
   ]
  },
  {
   "cell_type": "markdown",
   "metadata": {},
   "source": [
    "### Question 3"
   ]
  },
  {
   "cell_type": "markdown",
   "metadata": {},
   "source": [
    "A-"
   ]
  },
  {
   "cell_type": "code",
   "execution_count": 121,
   "metadata": {},
   "outputs": [
    {
     "name": "stdout",
     "output_type": "stream",
     "text": [
      "5 Obersvrations are [8.30317447 4.07910735 8.94388061 7.55958723 8.83799261]\n"
     ]
    },
    {
     "data": {
      "text/plain": [
       "Text(0, 0.5, 'output')"
      ]
     },
     "execution_count": 121,
     "metadata": {},
     "output_type": "execute_result"
    },
    {
     "data": {
      "image/png": "[encoded data removed]",
      "text/plain": [
       "<Figure size 432x288 with 1 Axes>"
      ]
     },
     "metadata": {
      "needs_background": "light"
     },
     "output_type": "display_data"
    }
   ],
   "source": [
    "oberv = np.random.uniform(3,12,5)\n",
    "print('5 Obersvrations are', oberv)\n",
    "plt.hist(oberv,15, rwidth=0.8)\n",
    "plt.title ('Random Uniform Distribution')\n",
    "plt.xlabel('random varibles')\n",
    "plt.ylabel('output')"
   ]
  },
  {
   "cell_type": "markdown",
   "metadata": {},
   "source": [
    "B-"
   ]
  },
  {
   "cell_type": "markdown",
   "metadata": {},
   "source": [
    "No the output is not as expected as doesn't look unifrom due to the random selection of the observations"
   ]
  },
  {
   "cell_type": "markdown",
   "metadata": {},
   "source": [
    "C-\n",
    "\n",
    "20 Observations"
   ]
  },
  {
   "cell_type": "code",
   "execution_count": 95,
   "metadata": {},
   "outputs": [
    {
     "data": {
      "text/plain": [
       "Text(0, 0.5, 'output')"
      ]
     },
     "execution_count": 95,
     "metadata": {},
     "output_type": "execute_result"
    },
    {
     "data": {
      "image/png": "[encoded data removed]",
      "text/plain": [
       "<Figure size 432x288 with 1 Axes>"
      ]
     },
     "metadata": {
      "needs_background": "light"
     },
     "output_type": "display_data"
    }
   ],
   "source": [
    "oberv = np.random.uniform(3,12,20)\n",
    "plt.hist(oberv,15, rwidth=0.8)\n",
    "plt.title ('20 Obervations Random Uniform Distribution')\n",
    "plt.xlabel('random varibles')\n",
    "plt.ylabel('output')"
   ]
  },
  {
   "cell_type": "markdown",
   "metadata": {},
   "source": [
    "100 Observations"
   ]
  },
  {
   "cell_type": "code",
   "execution_count": 94,
   "metadata": {},
   "outputs": [
    {
     "data": {
      "text/plain": [
       "Text(0, 0.5, 'output')"
      ]
     },
     "execution_count": 94,
     "metadata": {},
     "output_type": "execute_result"
    },
    {
     "data": {
      "image/png": "[encoded data removed]",
      "text/plain": [
       "<Figure size 432x288 with 1 Axes>"
      ]
     },
     "metadata": {
      "needs_background": "light"
     },
     "output_type": "display_data"
    }
   ],
   "source": [
    "oberv = np.random.uniform(3,12,100)\n",
    "plt.hist(oberv,10, rwidth=0.8)\n",
    "plt.title ('100 Obervations Random Uniform Distribution')\n",
    "plt.xlabel('random varibles')\n",
    "plt.ylabel('output')"
   ]
  },
  {
   "cell_type": "markdown",
   "metadata": {},
   "source": [
    "100000 Observations"
   ]
  },
  {
   "cell_type": "code",
   "execution_count": 86,
   "metadata": {},
   "outputs": [
    {
     "data": {
      "text/plain": [
       "Text(0, 0.5, 'output')"
      ]
     },
     "execution_count": 86,
     "metadata": {},
     "output_type": "execute_result"
    },
    {
     "data": {
      "image/png": "[encoded data removed]",
      "text/plain": [
       "<Figure size 432x288 with 1 Axes>"
      ]
     },
     "metadata": {
      "needs_background": "light"
     },
     "output_type": "display_data"
    }
   ],
   "source": [
    "oberv = np.random.uniform(3,12,100000)\n",
    "plt.hist(oberv,10, rwidth=0.8)\n",
    "plt.title ('100000 Obervations Random Uniform Distribution')\n",
    "plt.xlabel('random varibles')\n",
    "plt.ylabel('output')"
   ]
  },
  {
   "cell_type": "markdown",
   "metadata": {},
   "source": [
    "200000 Observations"
   ]
  },
  {
   "cell_type": "code",
   "execution_count": 89,
   "metadata": {},
   "outputs": [
    {
     "data": {
      "text/plain": [
       "Text(0, 0.5, 'output')"
      ]
     },
     "execution_count": 89,
     "metadata": {},
     "output_type": "execute_result"
    },
    {
     "data": {
      "image/png": "[encoded data removed]",
      "text/plain": [
       "<Figure size 432x288 with 1 Axes>"
      ]
     },
     "metadata": {
      "needs_background": "light"
     },
     "output_type": "display_data"
    }
   ],
   "source": [
    "oberv = np.random.uniform(3,12,200000)\n",
    "plt.hist(oberv,10, rwidth=0.8)\n",
    "plt.title ('200000 Obervations Random Uniform Distribution')\n",
    "plt.xlabel('random varibles')\n",
    "plt.ylabel('output')"
   ]
  },
  {
   "cell_type": "markdown",
   "metadata": {},
   "source": [
    "500000 Observations"
   ]
  },
  {
   "cell_type": "code",
   "execution_count": 90,
   "metadata": {},
   "outputs": [
    {
     "data": {
      "text/plain": [
       "Text(0, 0.5, 'output')"
      ]
     },
     "execution_count": 90,
     "metadata": {},
     "output_type": "execute_result"
    },
    {
     "data": {
      "image/png": "[encoded data removed]",
      "text/plain": [
       "<Figure size 432x288 with 1 Axes>"
      ]
     },
     "metadata": {
      "needs_background": "light"
     },
     "output_type": "display_data"
    }
   ],
   "source": [
    "oberv = np.random.uniform(3,12,500000)\n",
    "plt.hist(oberv,10, rwidth=0.8)\n",
    "plt.title ('500000 Obervations Random Uniform Distribution')\n",
    "plt.xlabel('random varibles')\n",
    "plt.ylabel('output')"
   ]
  },
  {
   "cell_type": "markdown",
   "metadata": {},
   "source": [
    "By increasing the sample size, the plot is tending to follow the uniform distribution"
   ]
  },
  {
   "cell_type": "markdown",
   "metadata": {},
   "source": [
    "### Question 4"
   ]
  },
  {
   "cell_type": "code",
   "execution_count": 135,
   "metadata": {},
   "outputs": [],
   "source": [
    "## function that gives you the probability that a RV X lies between 2 values x_lower & x_ upper\n",
    "## it takes 4 paramters: mu(mean), sigma(standart devation), lower limit, upper limit\n",
    "\n",
    "def get_probablity(mu,sigma, x_lower, x_upper):\n",
    "\n",
    "    normal_dist = st.norm(mu,sigma)\n",
    "\n",
    "    cdf_x_lower = normal_dist.cdf(x_lower)\n",
    "    cdf_x_upper = normal_dist.cdf(x_upper)\n",
    "    \n",
    "    return cdf_x_upper - cdf_x_lower"
   ]
  },
  {
   "cell_type": "markdown",
   "metadata": {},
   "source": [
    "A-"
   ]
  },
  {
   "cell_type": "code",
   "execution_count": 136,
   "metadata": {},
   "outputs": [
    {
     "name": "stdout",
     "output_type": "stream",
     "text": [
      "Probablity that X lies between 2 and 8 is 0.8663855974622838\n"
     ]
    }
   ],
   "source": [
    "print('Probablity that X lies between 2 and 8 is', get_probablity(5,2,2,8))"
   ]
  },
  {
   "cell_type": "markdown",
   "metadata": {},
   "source": [
    "B-"
   ]
  },
  {
   "cell_type": "code",
   "execution_count": 137,
   "metadata": {},
   "outputs": [
    {
     "name": "stdout",
     "output_type": "stream",
     "text": [
      "Probablity that X lies between 10 and 15 is 0.006209378674204236\n"
     ]
    }
   ],
   "source": [
    "print('Probablity that X lies between 10 and 15 is', get_probablity(5,2,10,15))"
   ]
  },
  {
   "cell_type": "markdown",
   "metadata": {},
   "source": [
    "C-"
   ]
  },
  {
   "cell_type": "code",
   "execution_count": 150,
   "metadata": {},
   "outputs": [
    {
     "data": {
      "image/png": "[encoded data removed]",
      "text/plain": [
       "<Figure size 432x288 with 1 Axes>"
      ]
     },
     "metadata": {
      "needs_background": "light"
     },
     "output_type": "display_data"
    }
   ],
   "source": [
    "mu, sigma = 5, 2\n",
    "\n",
    "X = np.linspace(mu - 5*sigma, mu + 5*sigma)\n",
    "normal_dist = st.norm(mu, sigma)\n",
    "\n",
    "## plot the main function\n",
    "plt.plot(X,normal_dist.pdf(X), 'black')\n",
    "\n",
    "## make the shaded purble   area \n",
    "shaded_1 = np.linspace(2,8)\n",
    "plt.fill_between(shaded_1, normal_dist.pdf(shaded_1), color = 'purple')\n",
    "\n",
    "## make the shaded pink area \n",
    "shaded_2 = np.linspace(10,15)\n",
    "plt.fill_between(shaded_2, normal_dist.pdf(shaded_2), color = 'pink')\n",
    "\n",
    "plt.xlabel('X')\n",
    "plt.ylabel('Probablity Density')\n",
    "plt.ylim(bottom = 0)\n",
    "plt.show()\n"
   ]
  },
  {
   "cell_type": "markdown",
   "metadata": {},
   "source": [
    "### Question 5"
   ]
  },
  {
   "cell_type": "code",
   "execution_count": 159,
   "metadata": {},
   "outputs": [
    {
     "name": "stdout",
     "output_type": "stream",
     "text": [
      "mean = 14.358947368421052\n",
      "median = 6.5\n",
      "range = 72.7\n",
      "standard deviation = 18.376885336787634\n"
     ]
    }
   ],
   "source": [
    "breakdown_time = np.array([0.19, 0.78, 0.96, 1.31, 2.78, 3.16, 4.15, 4.67, 4.85, 6.50, 7.35, 8.01, 8.27, 12.06, 31.75, 32.52, 33.91, 36.71, 72.89])\n",
    "print('mean =', np.mean(breakdown_time))\n",
    "print('median =', np.median(breakdown_time))\n",
    "print('range =',np.max(breakdown_time) - np.min(breakdown_time))\n",
    "print('standard deviation =', np.std(breakdown_time))\n"
   ]
  },
  {
   "cell_type": "markdown",
   "metadata": {},
   "source": [
    "### Question 6"
   ]
  },
  {
   "cell_type": "code",
   "execution_count": 165,
   "metadata": {},
   "outputs": [
    {
     "name": "stdout",
     "output_type": "stream",
     "text": [
      "95% CI on the mean number of CAT scans performed each month at this clinic is (1.9823140341088703, 2.181019299224463)\n",
      "95% CI on the mean (normal distribution) is (1.993193747760124, 2.1701395855732093)\n"
     ]
    }
   ],
   "source": [
    "CAT_scan = [2.31, 2.09, 2.36, 1.95, 1.98, 2.25, 2.16, 2.07, 1.88, 1.94, 1.97, 2.02]\n",
    "\n",
    "conf_interval_t = st.t.interval(alpha=0.95, df=len(CAT_scan)-1, loc=np.mean(CAT_scan), scale=st.sem(CAT_scan))\n",
    "print('95% CI on the mean number of CAT scans performed each month at this clinic is',conf_interval_t )\n",
    "\n",
    "\n",
    "conf_interval_normal = st.norm.interval(alpha=0.95, loc=np.mean(CAT_scan), scale=st.sem(CAT_scan))\n",
    "print('95% CI on the mean (normal distribution) is',conf_interval_normal)\n",
    "\n"
   ]
  },
  {
   "cell_type": "markdown",
   "metadata": {},
   "source": [
    "Two results are a little bit different \n",
    "For this case with this small set, the t distibution will be better"
   ]
  }
 ],
 "metadata": {
  "interpreter": {
   "hash": "768e7dea2297ac25d7d8adc85cdf874ee879b619285b107e21445e3796abc581"
  },
  "kernelspec": {
   "display_name": "Python 3.8.8 ('base')",
   "language": "python",
   "name": "python3"
  },
  "language_info": {
   "codemirror_mode": {
    "name": "ipython",
    "version": 3
   },
   "file_extension": ".py",
   "mimetype": "text/x-python",
   "name": "python",
   "nbconvert_exporter": "python",
   "pygments_lexer": "ipython3",
   "version": "3.8.8"
  },
  "orig_nbformat": 4
 },
 "nbformat": 4,
 "nbformat_minor": 2
}
