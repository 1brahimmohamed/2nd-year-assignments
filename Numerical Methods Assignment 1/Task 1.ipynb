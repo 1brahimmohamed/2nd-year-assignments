{
 "cells": [
  {
   "cell_type": "markdown",
   "metadata": {
    "pycharm": {
     "name": "#%% md\n"
    }
   },
   "source": [
    "<center> <h2>Numerical Methods in Biomedical Engineering (SBE2250)</h2></center>\n",
    "<center> <h3>Assignment 1 (Modeling, Computers, and Error Analysis)</h3></center>\n",
    "<center>Applied Numerical Methods with MATLAB® for Engineers and Scientists Fourth Edition - Steven C. Chapra </center>"
   ]
  },
  {
   "cell_type": "markdown",
   "metadata": {
    "pycharm": {
     "name": "#%% md\n"
    }
   },
   "source": [
    "#### <strong>Question 1 (1.1)</strong>"
   ]
  },
  {
   "cell_type": "markdown",
   "metadata": {
    "pycharm": {
     "name": "#%% md\n"
    }
   },
   "source": [
    "<strong>Problem Statement:</strong> A bungee jumper with a mass of 68.1 kg leaps from a stationary\n",
    "hot air balloon. Use Eq. (1.9) to compute velocity for the first 12 s of free fall. Also determine\n",
    "the terminal velocity that will be attained for an infinitely long cord (or alternatively,\n",
    "the jumpmaster is having a particularly bad day!). Use a drag coefficient of 0.25 kg/m.\n",
    "\n",
    "A) Implement a function in Python that takes the step size as an input parameter and gives the approximate problem solution from 0 to 12 seconds. Show the solutions for the following step sizes {0.01, 0.05, 0.1, 0.5}.\n",
    "\n",
    "B) Plot the approximate solutions along with the analytical solution (given in Example 1.1, page 7) on the same plot."
   ]
  },
  {
   "cell_type": "markdown",
   "metadata": {
    "pycharm": {
     "name": "#%% md\n"
    }
   },
   "source": [
    "A)"
   ]
  },
  {
   "cell_type": "code",
   "execution_count": null,
   "metadata": {
    "pycharm": {
     "name": "#%%\n",
     "is_executing": true
    }
   },
   "outputs": [],
   "source": [
    "import matplotlib.pyplot as plt\n",
    "from math import exp"
   ]
  },
  {
   "cell_type": "code",
   "execution_count": null,
   "metadata": {
    "pycharm": {
     "name": "#%%\n",
     "is_executing": true
    }
   },
   "outputs": [],
   "source": [
    "def bungeeJumper(stepSize, iterationNum):\n",
    "    mass = 68.1\n",
    "    dragCoff = 0.25\n",
    "\n",
    "    vo = 0;\n",
    "    for i in range(1, iterationNum):\n",
    "        vo = vo + ((9.81-(dragCoff/mass)*(vo**2))*(stepSize))\n",
    "    return vo    "
   ]
  },
  {
   "cell_type": "code",
   "execution_count": 13,
   "metadata": {
    "pycharm": {
     "name": "#%%\n"
    }
   },
   "outputs": [
    {
     "data": {
      "text/plain": [
       "51.69375204026018"
      ]
     },
     "execution_count": 13,
     "metadata": {},
     "output_type": "execute_result"
    }
   ],
   "source": [
    "bungeeJumper(0.01, 100000)"
   ]
  },
  {
   "cell_type": "code",
   "execution_count": 14,
   "metadata": {
    "pycharm": {
     "name": "#%%\n"
    }
   },
   "outputs": [
    {
     "data": {
      "text/plain": [
       "51.69375204026093"
      ]
     },
     "execution_count": 14,
     "metadata": {},
     "output_type": "execute_result"
    }
   ],
   "source": [
    "bungeeJumper(0.05, 100000)"
   ]
  },
  {
   "cell_type": "code",
   "execution_count": 15,
   "metadata": {
    "pycharm": {
     "name": "#%%\n"
    }
   },
   "outputs": [
    {
     "data": {
      "text/plain": [
       "51.69375204026102"
      ]
     },
     "execution_count": 15,
     "metadata": {},
     "output_type": "execute_result"
    }
   ],
   "source": [
    "bungeeJumper(0.1, 100000)"
   ]
  },
  {
   "cell_type": "code",
   "execution_count": 16,
   "metadata": {
    "pycharm": {
     "name": "#%%\n"
    }
   },
   "outputs": [
    {
     "data": {
      "text/plain": [
       "51.693752040261096"
      ]
     },
     "execution_count": 16,
     "metadata": {},
     "output_type": "execute_result"
    }
   ],
   "source": [
    "bungeeJumper(0.5, 100000)"
   ]
  },
  {
   "cell_type": "markdown",
   "metadata": {
    "pycharm": {
     "name": "#%% md\n"
    }
   },
   "source": [
    "B)"
   ]
  },
  {
   "cell_type": "code",
   "execution_count": 17,
   "metadata": {
    "pycharm": {
     "name": "#%%\n"
    }
   },
   "outputs": [],
   "source": [
    "def DrawBungeeJumper(stepSize, iterationNum):\n",
    "    mass = 68.1\n",
    "    dragCoff = 0.25\n",
    "\n",
    "    solAnalytic = [0, 18.7292 , 33.1118 , 42.0762 , 46.9575 , 49.4214 , 50.6175]\n",
    "    vo = 0\n",
    "    solNumerical = [vo]\n",
    "\n",
    "    for x in range (1,13):\n",
    "        vo = vo + ((9.81-(dragCoff/mass)*(vo**2))*(stepSize))\n",
    "        solNumerical.append(vo)\n",
    "\n",
    "    plt.plot(\n",
    "        [i for i in range (0, iterationNum, stepSize)], solAnalytic, color = 'red'\n",
    "    )\n",
    "\n",
    "    plt.plot(\n",
    "        [i for i in range (0, iterationNum)], solNumerical, color = 'green'\n",
    "    )\n",
    "\n",
    "    plt.title('Analytical VS Numerical Solutions')\n",
    "    plt.legend(['Analytic Solution', 'Numerical Solution'])\n",
    "    plt.xlabel('Time')\n",
    "    plt.ylabel('Velocity')"
   ]
  },
  {
   "cell_type": "code",
   "execution_count": 18,
   "metadata": {
    "pycharm": {
     "name": "#%%\n"
    }
   },
   "outputs": [
    {
     "data": {
      "image/png": "[encoded data removed]",
      "text/plain": [
       "<Figure size 432x288 with 1 Axes>"
      ]
     },
     "metadata": {
      "needs_background": "light"
     },
     "output_type": "display_data"
    }
   ],
   "source": [
    "DrawBungeeJumper(2,13)"
   ]
  },
  {
   "cell_type": "markdown",
   "metadata": {
    "pycharm": {
     "name": "#%% md\n"
    }
   },
   "source": [
    "#### <strong>Question 2 (1.8)</strong>"
   ]
  },
  {
   "cell_type": "markdown",
   "metadata": {
    "pycharm": {
     "name": "#%% md\n"
    }
   },
   "source": [
    "<strong>Problem Statement:</strong> \n",
    "The amount of a uniformly distributed radioactive contaminant contained in a closed reactor is measured by its concentration c (becquerel/liter or Bq/L). The contaminant decreases at a decay rate proportional to its concentration; that is\n",
    "\n",
    "Decay rate = −kc\n",
    "\n",
    "where k is a constant with units of day−1. Therefore, according to Eq. (1.14), a mass balance for the reactor can be written as dc/dt = −kc\n",
    "\n",
    "A) Use Euler’s method to solve this equation from t = 0 to\n",
    "1 d with k = 0.175 d–1. Employ a step size of Δt = 0.1 d.\n",
    "The concentration at t = 0 is 100 Bq/L.\n",
    "\n",
    "B) Plot the solution on a semilog graph (i.e., ln c versus t)\n",
    "and determine the slope. Interpret your results.\n"
   ]
  },
  {
   "cell_type": "code",
   "execution_count": 24,
   "metadata": {
    "pycharm": {
     "name": "#%%\n"
    }
   },
   "outputs": [],
   "source": [
    "def radioactivityRate(stepSize = 0.1):\n",
    "    tInit = 0\n",
    "    tFin = 1 \n",
    "    k = 0.175\n",
    "    c = 100\n",
    "    finalList = [c]\n",
    "\n",
    "    iterationNum = (tFin-tInit)/stepSize\n",
    "    for i in range(1, int(iterationNum)+1):\n",
    "        c = c - (k*c)\n",
    "        finalList.append(c)\n",
    "\n",
    "    plt.plot ([i for i in range (0, int (iterationNum ) + 1)], finalList)\n",
    "\n",
    "    plt.yscale(\"log\")\n",
    "    plt.xlabel(\"Time\")\n",
    "    plt.ylabel(\"Concentration (log scale )\")\n",
    "    plt.title(\"Concentration decay rate with Log Scale \")\n",
    "    return c\n"
   ]
  },
  {
   "cell_type": "code",
   "execution_count": 25,
   "metadata": {
    "pycharm": {
     "name": "#%%\n"
    }
   },
   "outputs": [
    {
     "data": {
      "text/plain": [
       "14.606275417942513"
      ]
     },
     "execution_count": 25,
     "metadata": {},
     "output_type": "execute_result"
    },
    {
     "data": {
      "image/png": "[encoded data removed]",
      "text/plain": [
       "<Figure size 432x288 with 1 Axes>"
      ]
     },
     "metadata": {
      "needs_background": "light"
     },
     "output_type": "display_data"
    }
   ],
   "source": [
    "radioactivityRate(0.1)"
   ]
  },
  {
   "cell_type": "markdown",
   "metadata": {
    "pycharm": {
     "name": "#%% md\n"
    }
   },
   "source": [
    "#### <strong>Question 3 (1.14)</strong>"
   ]
  },
  {
   "cell_type": "code",
   "execution_count": 29,
   "metadata": {
    "pycharm": {
     "name": "#%%\n"
    }
   },
   "outputs": [],
   "source": [
    "import math\n",
    "def velocity(xInit, xFin):\n",
    "    stepSize = 10000\n",
    "    velocity = 1500\n",
    "    R = 6.37*(10**6)\n",
    "    g = 9.81\n",
    "    solNumerical = 10000\n",
    "\n",
    "    iterationsNum = (xFin - xInit)/stepSize\n",
    "    \n",
    "    for i in range(0, int(iterationsNum)):\n",
    "        velocity = velocity -((g*R**2)/(velocity*(R+i)**2))*stepSize\n",
    "        analyticVeocity = math.sqrt((1500**2) + 2*g*(R**2/(R+solNumerical)) - 2*g*R)\n",
    "        solNumerical += 10000\n",
    "        print(\"Numerical Velocity for \", i+1, \"itr  = \", velocity, \"where Numerical sol = \", analyticVeocity)"
   ]
  },
  {
   "cell_type": "code",
   "execution_count": 30,
   "metadata": {
    "pycharm": {
     "name": "#%%\n"
    }
   },
   "outputs": [
    {
     "name": "stdout",
     "output_type": "stream",
     "text": [
      "Numerical Velocity for  1 itr  =  1434.6 where Numerical sol =  1433.2157979561182\n",
      "Numerical Velocity for  2 itr  =  1366.218591105967 where Numerical sol =  1363.3884879278105\n",
      "Numerical Velocity for  3 itr  =  1294.4146067088873 where Numerical sol =  1290.0228922387385\n",
      "Numerical Velocity for  4 itr  =  1218.6275234283569 where Numerical sol =  1212.475710228425\n",
      "Numerical Velocity for  5 itr  =  1138.127227060833 where Numerical sol =  1129.8850326099064\n",
      "Numerical Velocity for  6 itr  =  1051.9331323545844 where Numerical sol =  1041.0498349946822\n",
      "Numerical Velocity for  7 itr  =  958.6764298330917 where Numerical sol =  944.2077424325525\n",
      "Numerical Velocity for  8 itr  =  856.348072377762 where Numerical sol =  836.5810821293682\n",
      "Numerical Velocity for  9 itr  =  741.7921379864416 where Numerical sol =  713.3028310560536\n",
      "Numerical Velocity for  10 itr  =  609.5452216720912 where Numerical sol =  564.2026009877695\n"
     ]
    }
   ],
   "source": [
    "velocity(0 ,100000)"
   ]
  }
 ],
 "metadata": {
  "interpreter": {
   "hash": "ca6373b9b166d3015c88dcbfbb8a8050c882ec00cdf00c59953f1835a475a5ba"
  },
  "kernelspec": {
   "display_name": "Python 3.8.8 ('base')",
   "language": "python",
   "name": "python3"
  },
  "language_info": {
   "codemirror_mode": {
    "name": "ipython",
    "version": 3
   },
   "file_extension": ".py",
   "mimetype": "text/x-python",
   "name": "python",
   "nbconvert_exporter": "python",
   "pygments_lexer": "ipython3",
   "version": "3.8.8"
  },
  "orig_nbformat": 4
 },
 "nbformat": 4,
 "nbformat_minor": 2
}